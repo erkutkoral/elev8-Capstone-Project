{
 "cells": [
  {
   "cell_type": "code",
   "execution_count": 13,
   "metadata": {},
   "outputs": [],
   "source": [
    "from pyspark.sql import SparkSession\n",
    "from pyspark.sql.functions import col\n",
    "from pyspark.sql import functions as F\n",
    "from pyspark.sql.functions import col, when\n",
    "from pyspark.sql.functions import lit"
   ]
  },
  {
   "cell_type": "code",
   "execution_count": 14,
   "metadata": {
    "jupyter": {
     "outputs_hidden": false,
     "source_hidden": false
    },
    "nteract": {
     "transient": {
      "deleting": false
     }
    }
   },
   "outputs": [],
   "source": [
    "business = spark.read.json(\"abfss://files@datalakehay9qx2.dfs.core.windows.net/data/yelp_academic_dataset_business.json\")\n",
    "display(business.limit(10))"
   ]
  },
  {
   "cell_type": "code",
   "execution_count": 15,
   "metadata": {
    "jupyter": {
     "outputs_hidden": false,
     "source_hidden": false
    },
    "nteract": {
     "transient": {
      "deleting": false
     }
    }
   },
   "outputs": [],
   "source": [
    "business_df = business_df.drop(\"hours\").drop(\"attributes\")\n",
    "\n",
    "business_df = business_df.filter(col(\"categories\").isNotNull())\n",
    "#business_df = business_df.withColumn(\"name\", F.regexp_replace(\"name\", '\"', \"\"))\n",
    "#business_df = business_df.withColumn(\"address\", F.regexp_replace(\"address\", '\"', \"\")),\n",
    "\n",
    "states = [\"AL\", \"AK\", \"AZ\", \"AR\", \"CA\", \"CO\", \"CT\", \"DC\", \"DE\", \"FL\", \"GA\",\n",
    "          \"HI\", \"ID\", \"IL\", \"IN\", \"IA\", \"KS\", \"KY\", \"LA\", \"ME\", \"MD\",\n",
    "          \"MA\", \"MI\", \"MN\", \"MS\", \"MO\", \"MT\", \"NE\", \"NV\", \"NH\", \"NJ\",\n",
    "          \"NM\", \"NY\", \"NC\", \"ND\", \"OH\", \"OK\", \"OR\", \"PA\", \"RI\", \"SC\",\n",
    "          \"SD\", \"TN\", \"TX\", \"UT\", \"VT\", \"VA\", \"WA\", \"WV\", \"WI\", \"WY\"]\n",
    "\n",
    "# Filter for businesses in US states\n",
    "usa = business_df.filter(col(\"state\").isin(states))\n",
    "\n",
    "display(usa.limit(10))"
   ]
  },
  {
   "cell_type": "code",
   "execution_count": 16,
   "metadata": {
    "jupyter": {
     "outputs_hidden": false,
     "source_hidden": false
    },
    "nteract": {
     "transient": {
      "deleting": false
     }
    }
   },
   "outputs": [],
   "source": [
    "us_restaurants = usa.filter(usa['categories'].contains('Restaurants'))\n",
    "us_restaurants = us_restaurants.withColumn(\"category\", lit(None))\n",
    "\n",
    "us_restaurants = us_restaurants.withColumn(\"category\", \n",
    "                                            when(col(\"categories\").contains(\"Korean\"), \"Korean\")\\\n",
    " \n",
    "                                            .when(col(\"categories\").contains(\"Japanese\"), \"Japanese\")\\\n",
    " \n",
    "                                            .when(col(\"categories\").contains(\"Chinese\"), \"Chinese\")\\\n",
    "\n",
    "                                            .when(col(\"categories\").contains(\"Vietnamese\"), \"Vietnamese\")\\\n",
    "\n",
    "                                            .when(col(\"categories\").contains(\"Thai\"), \"Thai\")\\\n",
    "  \n",
    "                                            .when(col(\"categories\").contains(\"Italian\"), \"Italian\")\\\n",
    "\n",
    "                                            .when(col(\"categories\").contains(\"French\"), \"French\")\n",
    "                                            )                                                                                                                                                                                                               \n",
    "\n",
    "display(us_restaurants.limit(10))        "
   ]
  },
  {
   "cell_type": "code",
   "execution_count": 17,
   "metadata": {
    "jupyter": {
     "outputs_hidden": false,
     "source_hidden": false
    },
    "nteract": {
     "transient": {
      "deleting": false
     }
    }
   },
   "outputs": [],
   "source": [
    "us_restaurants = us_restaurants.drop(\"categories\")\n",
    "us_restaurants = us_restaurants.filter(col(\"category\").isNotNull())\n",
    "\n",
    "display(us_restaurants.limit(10))   "
   ]
  },
  {
   "cell_type": "code",
   "execution_count": 18,
   "metadata": {
    "jupyter": {
     "outputs_hidden": false,
     "source_hidden": false
    },
    "nteract": {
     "transient": {
      "deleting": false
     }
    }
   },
   "outputs": [],
   "source": [
    "## check total number of us restaurants\n",
    "us_restaurants.count()"
   ]
  },
  {
   "cell_type": "code",
   "execution_count": 43,
   "metadata": {
    "jupyter": {
     "outputs_hidden": false,
     "source_hidden": false
    },
    "nteract": {
     "transient": {
      "deleting": false
     }
    }
   },
   "outputs": [],
   "source": [
    "## check whether has duplicated business id\n",
    "us_restaurants.groupBy(\"business_id\").count().filter(col(\"count\") > 1).count()"
   ]
  },
  {
   "cell_type": "code",
   "execution_count": 38,
   "metadata": {
    "jupyter": {
     "outputs_hidden": false,
     "source_hidden": false
    },
    "nteract": {
     "transient": {
      "deleting": false
     }
    }
   },
   "outputs": [],
   "source": [
    "us_restaurants.write.save(path=\"csv\", format='csv', mode='overwrite', sep='\\t')"
   ]
  },
  {
   "cell_type": "code",
   "execution_count": 32,
   "metadata": {
    "jupyter": {
     "outputs_hidden": false,
     "source_hidden": false
    },
    "nteract": {
     "transient": {
      "deleting": false
     }
    }
   },
   "outputs": [],
   "source": [
    "us_restaurants.write.option(\"database\", \"YelpDB\").mode(\"overwrite\").saveAsTable(\"us_restaurants\")"
   ]
  }
 ],
 "metadata": {
  "description": null,
  "kernelspec": {
   "display_name": "Python 3 (ipykernel)",
   "language": "python",
   "name": "python3"
  },
  "language_info": {
   "codemirror_mode": {
    "name": "ipython",
    "version": 3
   },
   "file_extension": ".py",
   "mimetype": "text/x-python",
   "name": "python",
   "nbconvert_exporter": "python",
   "pygments_lexer": "ipython3",
   "version": "3.10.9"
  },
  "save_output": true
 },
 "nbformat": 4,
 "nbformat_minor": 2
}
