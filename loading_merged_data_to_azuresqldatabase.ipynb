{
 "cells": [
  {
   "cell_type": "code",
   "execution_count": 2,
   "metadata": {
    "microsoft": {}
   },
   "outputs": [],
   "source": [
    "restaurants_reviews = spark.sql(\"SELECT * FROM `default`.`restaurants_reviews`\")"
   ]
  },
  {
   "cell_type": "code",
   "execution_count": 6,
   "metadata": {
    "jupyter": {
     "outputs_hidden": false,
     "source_hidden": false
    },
    "nteract": {
     "transient": {
      "deleting": false
     }
    }
   },
   "outputs": [],
   "source": [
    "jdbc_url = \"jdbc:sqlserver://maindbserverdp203.database.windows.net:1433;database=main_db\"\n",
    "connection_properties = {\n",
    "    \"user\": \"sqladmin\",\n",
    "    \"password\": \"P@ssw0rd!\",\n",
    "    \"driver\": \"com.microsoft.sqlserver.jdbc.SQLServerDriver\"\n",
    "}"
   ]
  },
  {
   "cell_type": "code",
   "execution_count": 7,
   "metadata": {
    "jupyter": {
     "outputs_hidden": false,
     "source_hidden": false
    },
    "nteract": {
     "transient": {
      "deleting": false
     }
    }
   },
   "outputs": [],
   "source": [
    "restaurants_reviews.write.jdbc(url=jdbc_url, table=\"restaurants_reviews\", mode=\"overwrite\", properties=connection_properties)"
   ]
  }
 ],
 "metadata": {
  "description": null,
  "kernelspec": {
   "display_name": "Python 3 (ipykernel)",
   "language": "python",
   "name": "python3"
  },
  "language_info": {
   "codemirror_mode": {
    "name": "ipython",
    "version": 3
   },
   "file_extension": ".py",
   "mimetype": "text/x-python",
   "name": "python",
   "nbconvert_exporter": "python",
   "pygments_lexer": "ipython3",
   "version": "3.10.9"
  },
  "save_output": true
 },
 "nbformat": 4,
 "nbformat_minor": 2
}
