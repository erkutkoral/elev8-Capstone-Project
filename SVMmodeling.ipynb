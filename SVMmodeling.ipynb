{
 "cells": [
  {
   "cell_type": "code",
   "execution_count": 106,
   "metadata": {
    "id": "FhZy_bdTKa6y",
    "jupyter": {
     "outputs_hidden": false,
     "source_hidden": false
    },
    "nteract": {
     "transient": {
      "deleting": false
     }
    },
    "outputId": "4ef3c9a9-6b0c-43d4-9120-563f10a18993"
   },
   "outputs": [],
   "source": [
    "from pyspark.sql.functions import lower, regexp_replace\n",
    "from pyspark.sql.functions import col\n",
    "from pyspark.sql.functions import col, sum as spark_sum\n",
    "from sklearn.feature_extraction.text import CountVectorizer\n",
    "from sklearn.model_selection import train_test_split\n",
    "from sklearn.svm import LinearSVC\n",
    "import numpy as np\n",
    "import pandas as pd\n",
    "import seaborn as sns"
   ]
  },
  {
   "cell_type": "code",
   "execution_count": 2,
   "metadata": {
    "id": "F95umXrKKa60",
    "microsoft": {
     "language": "python"
    },
    "outputId": "8625e2fa-4f71-49c3-8e5f-4baef95e6ab5"
   },
   "outputs": [],
   "source": [
    "%%pyspark\n",
    "df = spark.sql(\"SELECT * FROM `default`.`restaurants_reviews`\")"
   ]
  },
  {
   "cell_type": "code",
   "execution_count": 105,
   "metadata": {
    "id": "0_YgXflcKa60",
    "jupyter": {
     "outputs_hidden": false,
     "source_hidden": false
    },
    "nteract": {
     "transient": {
      "deleting": false
     }
    },
    "outputId": "0de78251-2ace-44bc-8a3d-c087fff8b542"
   },
   "outputs": [],
   "source": [
    "display(df.limit(5))"
   ]
  },
  {
   "cell_type": "code",
   "execution_count": 4,
   "metadata": {
    "id": "3e9ejkLpKa61",
    "jupyter": {
     "outputs_hidden": false,
     "source_hidden": false
    },
    "nteract": {
     "transient": {
      "deleting": false
     }
    },
    "outputId": "1bf34de4-b865-4a93-bd94-1732793077f1"
   },
   "outputs": [],
   "source": [
    "#checking missing values\n",
    "missing_values_counts = df.select([spark_sum(col(c).isNull().cast(\"int\")).alias(c) for c in df.columns])\n",
    "display(missing_values_counts)"
   ]
  },
  {
   "cell_type": "code",
   "execution_count": 5,
   "metadata": {
    "id": "Cz3Vj28eKa61",
    "jupyter": {
     "outputs_hidden": false,
     "source_hidden": false
    },
    "nteract": {
     "transient": {
      "deleting": false
     }
    },
    "outputId": "e154e322-e0d3-460d-a95c-3c2b2b414eed"
   },
   "outputs": [],
   "source": [
    "# Convert text to lowercase\n",
    "df = df.withColumn(\"text\", lower(df[\"text\"]))\n",
    "\n",
    "# Remove unnecessary punctuation\n",
    "df = df.withColumn(\"removed_punct_text\",regexp_replace(df[\"text\"], r'[\\n!\"#$%&()*+,-./:;<=>?@[\\\\]^_`{|}~]', ''))"
   ]
  },
  {
   "cell_type": "code",
   "execution_count": 6,
   "metadata": {
    "id": "2HHKUYB4Ka61",
    "jupyter": {
     "outputs_hidden": false,
     "source_hidden": false
    },
    "nteract": {
     "transient": {
      "deleting": false
     }
    },
    "outputId": "bfc6d8bf-68a1-4111-85b2-31fa0aa23a56"
   },
   "outputs": [],
   "source": [
    "# Reading positive words from the txt files\n",
    "positive_words_df = spark.read.text(\"abfss://files@datalakehay9qx2.dfs.core.windows.net/ML_texts/positive.txt\")\n",
    "positive_words = positive_words_df.select(col(\"value\").alias(\"positive_word\")).rdd.flatMap(lambda x: x).collect()\n",
    "\n",
    "# Reading negative words from the txt files\n",
    "negative_words_df = spark.read.text(\"abfss://files@datalakehay9qx2.dfs.core.windows.net/ML_texts/negative.txt\")\n",
    "negative_words = negative_words_df.select(col(\"value\").alias(\"negative_word\")).rdd.flatMap(lambda x: x).collect()\n",
    "\n",
    "print(\"Positive Words:\", positive_words)\n",
    "print(\"Negative Words:\", negative_words)"
   ]
  },
  {
   "cell_type": "code",
   "execution_count": 7,
   "metadata": {
    "id": "PS8mNqLhKa61",
    "jupyter": {
     "outputs_hidden": false,
     "source_hidden": false
    },
    "nteract": {
     "transient": {
      "deleting": false
     }
    },
    "outputId": "d8cc81d3-df62-4ff1-95af-6bd1e4d579c2"
   },
   "outputs": [],
   "source": [
    "display(df.limit(5))"
   ]
  },
  {
   "cell_type": "code",
   "execution_count": 8,
   "metadata": {
    "id": "yGcTW7wFKa62",
    "jupyter": {
     "outputs_hidden": false,
     "source_hidden": false
    },
    "nteract": {
     "transient": {
      "deleting": false
     }
    },
    "outputId": "3b8f124e-48a0-470b-ca3b-1cc58c5f26a4"
   },
   "outputs": [],
   "source": [
    "# Function getting data with a certain category and its label into a pandas dataframe.\n",
    "\n",
    "def get_dataset(category):\n",
    "    df1 = df.filter(col(\"category\") == category) \\\n",
    "                           .select(col(\"removed_punct_text\").alias(\"text\"), col(\"labels\")) \\\n",
    "                           .toPandas()\n",
    "    return df1"
   ]
  },
  {
   "cell_type": "code",
   "execution_count": 9,
   "metadata": {
    "id": "PyPL990dQa1q"
   },
   "outputs": [],
   "source": [
    "# Filtering words and getting only the words which are in the positive and negative words lists.\n",
    "\n",
    "def filter_words(review):\n",
    "    words = review.split()\n",
    "    filtered_words = [word for word in words if word in positive_words or word in negative_words]\n",
    "    filtered_text = ' '.join(filtered_words)\n",
    "    return filtered_text"
   ]
  },
  {
   "cell_type": "code",
   "execution_count": 10,
   "metadata": {
    "id": "QGsnEseOKa62",
    "jupyter": {
     "outputs_hidden": false,
     "source_hidden": false
    },
    "nteract": {
     "transient": {
      "deleting": false
     }
    },
    "outputId": "58ae693f-c3df-4f1c-8cb9-c09d1ba014fb"
   },
   "outputs": [],
   "source": [
    "Korean_reviews = get_dataset('Korean')"
   ]
  },
  {
   "cell_type": "code",
   "execution_count": 11,
   "metadata": {
    "id": "oJbrgyueKa62",
    "jupyter": {
     "outputs_hidden": false,
     "source_hidden": false
    },
    "nteract": {
     "transient": {
      "deleting": false
     }
    },
    "outputId": "712b053b-9e4b-4a28-8fd4-f1db12bad1c1"
   },
   "outputs": [],
   "source": [
    "# Getting dataset and splitting it into train and test sets. Returns train set.\n",
    "\n",
    "def split_data(dataset, test_size):\n",
    "    df_train, df_test = train_test_split(dataset[['text','labels']],test_size=test_size)\n",
    "    return df_train"
   ]
  },
  {
   "cell_type": "code",
   "execution_count": 12,
   "metadata": {
    "id": "Ugru-vp2Ka63",
    "jupyter": {
     "outputs_hidden": false,
     "source_hidden": false
    },
    "nteract": {
     "transient": {
      "deleting": false
     }
    },
    "outputId": "854da1fc-a172-406d-af21-bfab661fa810"
   },
   "outputs": [],
   "source": [
    "Korean_train, Korean_test = train_test_split(Korean_reviews[['text','labels']],test_size=0.5)"
   ]
  },
  {
   "cell_type": "code",
   "execution_count": 13,
   "metadata": {
    "id": "6ZtGI6uhKa64",
    "jupyter": {
     "outputs_hidden": false,
     "source_hidden": false
    },
    "nteract": {
     "transient": {
      "deleting": false
     }
    },
    "outputId": "74a510c1-130a-4ef2-a721-6ca081eced47"
   },
   "outputs": [],
   "source": [
    "Korean_train.shape"
   ]
  },
  {
   "cell_type": "code",
   "execution_count": 14,
   "metadata": {
    "id": "fuy4Tu-WKa64",
    "jupyter": {
     "outputs_hidden": false,
     "source_hidden": false
    },
    "nteract": {
     "transient": {
      "deleting": false
     }
    },
    "outputId": "9d2b2754-10a5-4809-c109-0f2b13a2d771"
   },
   "outputs": [],
   "source": [
    "Korean_test.shape"
   ]
  },
  {
   "cell_type": "code",
   "execution_count": 15,
   "metadata": {
    "id": "SdYdzLlAKa64",
    "jupyter": {
     "outputs_hidden": false,
     "source_hidden": false
    },
    "nteract": {
     "transient": {
      "deleting": false
     }
    },
    "outputId": "816289f7-f0f5-4c14-aa17-91cd3ca9ad78"
   },
   "outputs": [],
   "source": [
    "Korean_train.text = Korean_train.text.apply(filter_words)"
   ]
  },
  {
   "cell_type": "code",
   "execution_count": 16,
   "metadata": {
    "id": "ysPw2CQEKa64",
    "jupyter": {
     "outputs_hidden": false,
     "source_hidden": false
    },
    "nteract": {
     "transient": {
      "deleting": false
     }
    },
    "outputId": "95d186b8-de42-4e6f-c562-f043ff7a162b"
   },
   "outputs": [],
   "source": [
    "Korean_train"
   ]
  },
  {
   "cell_type": "code",
   "execution_count": 17,
   "metadata": {
    "id": "SBWWlGGHKa64",
    "jupyter": {
     "outputs_hidden": false,
     "source_hidden": false
    },
    "nteract": {
     "transient": {
      "deleting": false
     }
    },
    "outputId": "c9893b85-f165-4e61-d3f2-bad4f4592cc2"
   },
   "outputs": [],
   "source": [
    "## Assigning text and labels columns to different variables.\n",
    "traintexts=list(Korean_train['text'])\n",
    "trainlabels=list(Korean_train['labels'])\n",
    "\n",
    "testtexts=list(Korean_test['text'])\n",
    "testlabels=list(Korean_test['labels'])"
   ]
  },
  {
   "cell_type": "code",
   "execution_count": 18,
   "metadata": {
    "id": "_dpJDKyPKa64",
    "jupyter": {
     "outputs_hidden": false,
     "source_hidden": false
    },
    "nteract": {
     "transient": {
      "deleting": false
     }
    },
    "outputId": "2dfa684a-e9c6-4af9-ea4c-d04e6c8f35c3"
   },
   "outputs": [],
   "source": [
    "traintexts"
   ]
  },
  {
   "cell_type": "code",
   "execution_count": 19,
   "metadata": {
    "id": "FC5y_kunKa64",
    "jupyter": {
     "outputs_hidden": false,
     "source_hidden": false
    },
    "nteract": {
     "transient": {
      "deleting": false
     }
    },
    "outputId": "fb0ee4cd-ffe9-4a3b-a5a7-6005f8d9dd95"
   },
   "outputs": [],
   "source": [
    "#Applied 'bag of words': the frequencies of various words appeared in each review as features using CountVectorizer.\n",
    "\n",
    "vectorizer = CountVectorizer()\n",
    "count_trainfeatures=vectorizer.fit_transform(traintexts)\n",
    "count_trainfeatures.shape"
   ]
  },
  {
   "cell_type": "code",
   "execution_count": 29,
   "metadata": {
    "id": "5gA5YnDfKa64",
    "jupyter": {
     "outputs_hidden": false,
     "source_hidden": false
    },
    "nteract": {
     "transient": {
      "deleting": false
     }
    },
    "outputId": "84782cfd-9bef-48ba-a625-592016c08bf4"
   },
   "outputs": [],
   "source": [
    "print(count_trainfeatures)"
   ]
  },
  {
   "cell_type": "code",
   "execution_count": 30,
   "metadata": {
    "id": "FUoJJ0_EKa65",
    "jupyter": {
     "outputs_hidden": false,
     "source_hidden": false
    },
    "nteract": {
     "transient": {
      "deleting": false
     }
    },
    "outputId": "ada15dd8-dfde-43be-eecf-4a945b60612f"
   },
   "outputs": [],
   "source": [
    "## Implementing SVM model to get relatively positive and negative words and get score of each word.\n",
    "svm = LinearSVC(max_iter=10000)\n",
    "svm.fit(count_trainfeatures, trainlabels)"
   ]
  },
  {
   "cell_type": "code",
   "execution_count": 31,
   "metadata": {
    "id": "igLc9aOeKa65",
    "jupyter": {
     "outputs_hidden": false,
     "source_hidden": false
    },
    "nteract": {
     "transient": {
      "deleting": false
     }
    },
    "outputId": "dad1da98-5332-4f58-9adc-5d7b13a156af"
   },
   "outputs": [],
   "source": [
    "## Creating dataframe for score of each word in a review calculated by svm model\n",
    "coeff = svm.coef_[0]\n",
    "Korean_words_score = pd.DataFrame({'score': coeff, 'word': vectorizer.get_feature_names()})"
   ]
  },
  {
   "cell_type": "code",
   "execution_count": 32,
   "metadata": {
    "id": "AO4G6Qk7Ka65",
    "jupyter": {
     "outputs_hidden": false,
     "source_hidden": false
    },
    "nteract": {
     "transient": {
      "deleting": false
     }
    },
    "outputId": "e581c0dd-0293-451b-a75e-0640f64d1c68"
   },
   "outputs": [],
   "source": [
    "Korean_words_score"
   ]
  },
  {
   "cell_type": "code",
   "execution_count": 37,
   "metadata": {
    "id": "_uU-Bgp_Ka65",
    "jupyter": {
     "outputs_hidden": false,
     "source_hidden": false
    },
    "nteract": {
     "transient": {
      "deleting": false
     }
    },
    "outputId": "a6e5c5c4-44d2-4edf-9ada-6db373ab3572"
   },
   "outputs": [],
   "source": [
    "## Getting frequency of each word in all reviews in specific category\n",
    "Korean_reviews = pd.DataFrame(count_trainfeatures.toarray(), columns=vectorizer.get_feature_names())\n",
    "Korean_reviews['labels'] = trainlabels\n",
    "Korean_frequency = Korean_reviews[Korean_reviews['labels'] =='positive'].sum()[:-1]"
   ]
  },
  {
   "cell_type": "code",
   "execution_count": 39,
   "metadata": {
    "id": "AbnoYfFVKa65",
    "jupyter": {
     "outputs_hidden": false,
     "source_hidden": false
    },
    "nteract": {
     "transient": {
      "deleting": false
     }
    },
    "outputId": "31e2bcfd-18a3-4236-804c-854ddfd2f9a0"
   },
   "outputs": [],
   "source": [
    "Korean_words_score.set_index('word', inplace=True)"
   ]
  },
  {
   "cell_type": "code",
   "execution_count": 40,
   "metadata": {
    "id": "v7_lQyxHKa65",
    "jupyter": {
     "outputs_hidden": false,
     "source_hidden": false
    },
    "nteract": {
     "transient": {
      "deleting": false
     }
    },
    "outputId": "10bf0241-9154-448e-8dfb-402393045f31"
   },
   "outputs": [],
   "source": [
    "Korean_polarity_score = Korean_words_score\n",
    "Korean_polarity_score['frequency'] = Korean_frequency\n",
    "Korean_polarity_score"
   ]
  },
  {
   "cell_type": "code",
   "execution_count": 41,
   "metadata": {
    "id": "2CoX74qJKa65",
    "jupyter": {
     "outputs_hidden": false,
     "source_hidden": false
    },
    "nteract": {
     "transient": {
      "deleting": false
     }
    },
    "outputId": "4e263e25-c965-41a8-d9a1-617f9522fdd8"
   },
   "outputs": [],
   "source": [
    "# Calculating the polarity score.\n",
    "\n",
    "Korean_polarity_score['polarity'] = Korean_polarity_score.score * Korean_polarity_score.frequency / Korean_reviews.shape[0]\n",
    "Korean_polarity_score"
   ]
  },
  {
   "cell_type": "code",
   "execution_count": 42,
   "metadata": {
    "id": "aULlKku0Ka66",
    "jupyter": {
     "outputs_hidden": false,
     "source_hidden": false
    },
    "nteract": {
     "transient": {
      "deleting": false
     }
    },
    "outputId": "3867985c-ea6b-4c27-8359-42cec777db04"
   },
   "outputs": [],
   "source": [
    "## Dropping unnecessery words.\n",
    "unuseful_positive_words = Korean_polarity_score.loc[['great','amazing','love','best','awesome','excellent','good',\n",
    "                                                    'favorite','loved','perfect','gem','perfectly','wonderful',\n",
    "                                                    'happy','enjoyed','nice','well','super','like','better','decent','fine',\n",
    "                                                    'pretty','enough','excited','impressed','ready','fantastic','glad','right',\n",
    "                                                    'fabulous']]\n",
    "unuseful_negative_words =  Korean_polarity_score.loc[['bad','disappointed','unfortunately','disappointing','horrible',\n",
    "                                                     'lacking','terrible','sorry', 'disappoint']]\n",
    "\n",
    "Korean_polarity_score.drop(unuseful_positive_words.index, axis=0, inplace=True)\n",
    "Korean_polarity_score.drop(unuseful_negative_words.index, axis=0, inplace=True)"
   ]
  },
  {
   "cell_type": "code",
   "execution_count": 43,
   "metadata": {
    "id": "WQvRB_WZKa66",
    "jupyter": {
     "outputs_hidden": false,
     "source_hidden": false
    },
    "nteract": {
     "transient": {
      "deleting": false
     }
    },
    "outputId": "18448b61-31c0-4f29-8852-2d0922deb436"
   },
   "outputs": [],
   "source": [
    "Korean_polarity_score.polarity = Korean_polarity_score.polarity.astype(float)\n",
    "Korean_polarity_score.frequency = Korean_polarity_score.frequency.astype(float)"
   ]
  },
  {
   "cell_type": "code",
   "execution_count": 44,
   "metadata": {
    "id": "e5mC7_TuKa66",
    "jupyter": {
     "outputs_hidden": false,
     "source_hidden": false
    },
    "nteract": {
     "transient": {
      "deleting": false
     }
    },
    "outputId": "3ea5ea30-be7e-4a48-9e3a-b63453701743"
   },
   "outputs": [],
   "source": [
    "# Displaying top 20 words with highest polarity score.\n",
    "Top_polarity_scores=Korean_polarity_score[Korean_polarity_score.polarity>0].sort_values('polarity', ascending=False)\n",
    "Top_polarity_scores[:20]"
   ]
  },
  {
   "cell_type": "code",
   "execution_count": 45,
   "metadata": {
    "id": "Z4dALcw5Ka66",
    "jupyter": {
     "outputs_hidden": false,
     "source_hidden": false
    },
    "nteract": {
     "transient": {
      "deleting": false
     }
    },
    "outputId": "7193bb96-1301-4c66-da7f-3aff25035dce"
   },
   "outputs": [],
   "source": [
    "Korean_polarity_score_sorted=Korean_polarity_score.sort_values(\"polarity\",ascending=False)\n",
    "Korean_polarity_score_sorted"
   ]
  },
  {
   "cell_type": "code",
   "execution_count": 46,
   "metadata": {
    "id": "1NUP_m-QKa66",
    "jupyter": {
     "outputs_hidden": false,
     "source_hidden": false
    },
    "nteract": {
     "transient": {
      "deleting": false
     }
    },
    "outputId": "c9a08ad1-0b3a-473d-8451-337c99dfef41"
   },
   "outputs": [],
   "source": [
    "# Getting top 10 positive and negative words.\n",
    "pos_words=[]\n",
    "neg_words=[]\n",
    "for i in range(len(Korean_polarity_score_sorted)):\n",
    "    if Korean_polarity_score_sorted.index[i] in positive_words:\n",
    "        pos_words.append(Korean_polarity_score_sorted.index[i])\n",
    "    else:\n",
    "        neg_words.append(Korean_polarity_score_sorted.index[i])"
   ]
  },
  {
   "cell_type": "code",
   "execution_count": 47,
   "metadata": {
    "id": "2cmz05BWKa66",
    "jupyter": {
     "outputs_hidden": false,
     "source_hidden": false
    },
    "nteract": {
     "transient": {
      "deleting": false
     }
    },
    "outputId": "95f42122-89f7-42bb-f821-c045d479d2e2"
   },
   "outputs": [],
   "source": [
    "Korean_top_positive_words=pos_words[:10]\n",
    "Korean_top_negative_words=neg_words[-10:]\n",
    "Korean_top_words = Korean_polarity_score.loc[Korean_top_positive_words+Korean_top_negative_words,'polarity']"
   ]
  },
  {
   "cell_type": "code",
   "execution_count": 48,
   "metadata": {
    "id": "BCo9bfO6Ka66",
    "jupyter": {
     "outputs_hidden": false,
     "source_hidden": false
    },
    "nteract": {
     "transient": {
      "deleting": false
     }
    },
    "outputId": "5aaa69d2-8765-4efc-8a2d-c26d96751636"
   },
   "outputs": [],
   "source": [
    "import matplotlib.pyplot as plt\n",
    "import seaborn as sns"
   ]
  },
  {
   "cell_type": "code",
   "execution_count": 49,
   "metadata": {
    "id": "a8SK2409Ka7H",
    "jupyter": {
     "outputs_hidden": false,
     "source_hidden": false
    },
    "nteract": {
     "transient": {
      "deleting": false
     }
    },
    "outputId": "69748c85-dc2b-4adb-970a-35ad8a5f8a7e"
   },
   "outputs": [],
   "source": [
    "# Plotting top ten negative and positive words.\n",
    "plt.figure(figsize=(11,6))\n",
    "colors = ['red' if c < 0 else 'blue' for c in Korean_top_words.values]\n",
    "sns.barplot(y=Korean_top_words.index, x=Korean_top_words.values, palette=colors)\n",
    "plt.xlabel('Polarity Score', labelpad=10, fontsize=14)\n",
    "plt.ylabel('Words', fontsize=14)\n",
    "plt.title('TOP 10 Positive and Negative Words in Korean Restaurants', fontsize=15)\n",
    "plt.tick_params(labelsize=14)\n",
    "plt.xticks(rotation=15)"
   ]
  },
  {
   "cell_type": "markdown",
   "metadata": {
    "nteract": {
     "transient": {
      "deleting": false
     }
    }
   },
   "source": []
  },
  {
   "cell_type": "code",
   "execution_count": 50,
   "metadata": {
    "id": "bxScl-NhKa7I",
    "jupyter": {
     "outputs_hidden": false,
     "source_hidden": false
    },
    "nteract": {
     "transient": {
      "deleting": false
     }
    },
    "outputId": "7b954dd9-270d-4a62-b3ed-5f8cfd094e92"
   },
   "outputs": [],
   "source": [
    "# Function to calculate polarity score of any dataset.\n",
    "\n",
    "def get_polarity_score(dataset):\n",
    "    dataset.text = dataset.text.apply(filter_words)\n",
    "\n",
    "    terms_train=list(dataset['text'])\n",
    "    class_train=list(dataset['labels'])\n",
    "\n",
    "    ## get bag of words\n",
    "    vectorizer = CountVectorizer()\n",
    "    feature_train_counts=vectorizer.fit_transform(terms_train)\n",
    "\n",
    "    ## run model\n",
    "    svm = LinearSVC(max_iter=10000)\n",
    "    svm.fit(feature_train_counts, class_train)\n",
    "\n",
    "    ## create dataframe for score of each word in a review calculated by svm model\n",
    "    coeff = svm.coef_[0]\n",
    "    cuisine_words_score = pd.DataFrame({'score': coeff, 'word': vectorizer.get_feature_names()})\n",
    "\n",
    "    ## get frequency of each word in all reviews in specific category\n",
    "    cuisine_reviews = pd.DataFrame(feature_train_counts.toarray(), columns=vectorizer.get_feature_names())\n",
    "    cuisine_reviews['labels'] = class_train\n",
    "    cuisine_frequency = cuisine_reviews[cuisine_reviews['labels'] =='positive'].sum()[:-1]\n",
    "\n",
    "    cuisine_words_score.set_index('word', inplace=True)\n",
    "    cuisine_polarity_score = cuisine_words_score\n",
    "    cuisine_polarity_score['frequency'] = cuisine_frequency\n",
    "\n",
    "    cuisine_polarity_score.score = cuisine_polarity_score.score.astype(float)\n",
    "    cuisine_polarity_score.frequency = cuisine_polarity_score.frequency.astype(int)\n",
    "\n",
    "    ## calculate polarity score\n",
    "    cuisine_polarity_score['polarity'] = cuisine_polarity_score.score * cuisine_polarity_score.frequency / cuisine_reviews.shape[0]\n",
    "\n",
    "    cuisine_polarity_score.polarity = cuisine_polarity_score.polarity.astype(float)\n",
    "    ## drop unnecessary words\n",
    "    unuseful_positive_words = ['great','amazing','love','best','awesome','excellent','good',\n",
    "                                                   'favorite','loved','perfect','gem','perfectly','wonderful',\n",
    "                                                    'happy','enjoyed','nice','well','super','like','better','decent','fine',\n",
    "                                                    'pretty','enough','excited','impressed','ready','fantastic','glad','right',\n",
    "                                                    'fabulous']\n",
    "    unuseful_negative_words =  ['bad','disappointed','unfortunately','disappointing','horrible',\n",
    "                                                    'lacking','terrible','sorry']\n",
    "    unuseful_words = unuseful_positive_words + unuseful_negative_words\n",
    "    cuisine_polarity_score.drop(cuisine_polarity_score.loc[unuseful_words].index, axis=0, inplace=True)\n",
    "\n",
    "    return cuisine_polarity_score"
   ]
  },
  {
   "cell_type": "code",
   "execution_count": 51,
   "metadata": {
    "id": "x2NIbyVrKa7I",
    "jupyter": {
     "outputs_hidden": false,
     "source_hidden": false
    },
    "nteract": {
     "transient": {
      "deleting": false
     }
    },
    "outputId": "911527e2-ffd1-442b-fd12-1cd9b6e88403"
   },
   "outputs": [],
   "source": [
    "# Plotting top 10 negative and positive words according to their polarity scores.\n",
    "\n",
    "def plot_top_words(top_words, category):\n",
    "    plt.figure(figsize=(11,6))\n",
    "    colors = ['red' if c < 0 else 'blue' for c in top_words.values]\n",
    "    sns.barplot(y=top_words.index, x=top_words.values, palette=colors)\n",
    "    plt.xlabel('Polarity Score', labelpad=10, fontsize=14)\n",
    "    plt.ylabel('Words', fontsize=14)\n",
    "    plt.title('TOP 10 Positive and Negative Words in %s Restaurants ' % category, fontsize=15)\n",
    "    plt.tick_params(labelsize=14)\n",
    "    plt.xticks(rotation=15)"
   ]
  },
  {
   "cell_type": "code",
   "execution_count": 53,
   "metadata": {
    "id": "PnloeutoKa7I",
    "jupyter": {
     "outputs_hidden": false,
     "source_hidden": false
    },
    "nteract": {
     "transient": {
      "deleting": false
     }
    },
    "outputId": "0249d4a4-7c56-442d-f628-73f11037b7c7"
   },
   "outputs": [],
   "source": [
    "# Getting top 10 negative and positive words according to their polarity scores.\n",
    "\n",
    "def get_top_words(dataset, label, number=20):\n",
    "    if label == 'positive':\n",
    "        df = dataset[dataset.polarity>0].sort_values('polarity',ascending = False)[:number]\n",
    "    else:\n",
    "        df = dataset[dataset.polarity<0].sort_values('polarity')[:number]\n",
    "    return df"
   ]
  },
  {
   "cell_type": "markdown",
   "metadata": {
    "id": "ZKX8MrVTMJ_r"
   },
   "source": [
    "## Japanese"
   ]
  },
  {
   "cell_type": "code",
   "execution_count": 54,
   "metadata": {
    "id": "zuFbHQ5uKa7I",
    "jupyter": {
     "outputs_hidden": false,
     "source_hidden": false
    },
    "nteract": {
     "transient": {
      "deleting": false
     }
    },
    "outputId": "2f2bb8ad-45e8-4d71-ae63-a9902a32e32f"
   },
   "outputs": [],
   "source": [
    "# Getting dataset, calculating polarity scores, getting and plotting top 10 negative and positive words for Japanese restaurants.\n",
    "\n",
    "Japanese_reviews = get_dataset('Japanese')\n",
    "Japanese_train = split_data(Japanese_reviews, 0.9)\n",
    "print('Total %d number of reviews' % Japanese_train.shape[0])\n",
    "Japanese_polarity_score = get_polarity_score(Japanese_train)"
   ]
  },
  {
   "cell_type": "code",
   "execution_count": 55,
   "metadata": {
    "id": "X2TIWwOaKa7I",
    "jupyter": {
     "outputs_hidden": false,
     "source_hidden": false
    },
    "nteract": {
     "transient": {
      "deleting": false
     }
    }
   },
   "outputs": [],
   "source": [
    "Japanese_top_positive_words=get_top_words(Japanese_polarity_score, 'positive')[:10]\n",
    "Japanese_top_positive_words"
   ]
  },
  {
   "cell_type": "code",
   "execution_count": 56,
   "metadata": {
    "id": "vpOM6Xy2Ka7I",
    "jupyter": {
     "outputs_hidden": false,
     "source_hidden": false
    },
    "nteract": {
     "transient": {
      "deleting": false
     }
    },
    "outputId": "e2eac0b3-be11-4074-ac42-43dde3cb804b"
   },
   "outputs": [],
   "source": [
    "Japanese_top_negative_words=get_top_words(Japanese_polarity_score,'negative')[:10]\n",
    "Japanese_top_negative_words"
   ]
  },
  {
   "cell_type": "code",
   "execution_count": 57,
   "metadata": {
    "id": "3q9PPPEAKa7I",
    "jupyter": {
     "outputs_hidden": false,
     "source_hidden": false
    },
    "nteract": {
     "transient": {
      "deleting": false
     }
    },
    "outputId": "de634310-908f-48bd-f8a5-bfa000b2e24f"
   },
   "outputs": [],
   "source": [
    "Japanese_top_words = Japanese_polarity_score.loc[Japanese_top_positive_words.index.tolist()+Japanese_top_negative_words.index.tolist(),'polarity']\n",
    "plot_top_words(Japanese_top_words,'Japanese')"
   ]
  },
  {
   "cell_type": "markdown",
   "metadata": {
    "id": "i_vaBAxjLzgn"
   },
   "source": [
    "## Thai"
   ]
  },
  {
   "cell_type": "code",
   "execution_count": 58,
   "metadata": {
    "id": "96Jk6oA0KiTw"
   },
   "outputs": [],
   "source": [
    "# Getting dataset, calculating polarity scores, getting and plotting top 10 negative and positive words for Thai restaurants.\n",
    "\n",
    "Thai_reviews = get_dataset('Thai')\n",
    "Thai_train = split_data(Thai_reviews, 0.9)\n",
    "print('Total %d number of reviews' % Thai_train.shape[0])\n",
    "Thai_polarity_score = get_polarity_score(Thai_train)"
   ]
  },
  {
   "cell_type": "code",
   "execution_count": 59,
   "metadata": {
    "id": "uvWttHyuKiDI"
   },
   "outputs": [],
   "source": [
    "Thai_top_positive_words=get_top_words(Thai_polarity_score, 'positive')[:10]\n",
    "Thai_top_positive_words"
   ]
  },
  {
   "cell_type": "code",
   "execution_count": 60,
   "metadata": {
    "id": "vvlK4ThJKly8"
   },
   "outputs": [],
   "source": [
    "Thai_top_negative_words=get_top_words(Thai_polarity_score,'negative')[:10]\n",
    "Thai_top_negative_words"
   ]
  },
  {
   "cell_type": "code",
   "execution_count": 61,
   "metadata": {
    "id": "UFSRgneyKo3k"
   },
   "outputs": [],
   "source": [
    "Thai_top_words = Thai_polarity_score.loc[Thai_top_positive_words.index.tolist()+Thai_top_negative_words.index.tolist(),'polarity']\n",
    "plot_top_words(Thai_top_words,'Thai')"
   ]
  },
  {
   "cell_type": "markdown",
   "metadata": {
    "id": "Kwja2rXfLxw5"
   },
   "source": [
    "## Chinese"
   ]
  },
  {
   "cell_type": "code",
   "execution_count": 62,
   "metadata": {
    "id": "jvBk15fMLTCI"
   },
   "outputs": [],
   "source": [
    "# Getting dataset, calculating polarity scores, getting and plotting top 10 negative and positive words for Chinese restaurants.\n",
    "\n",
    "Chinese_reviews = get_dataset('Chinese')\n",
    "Chinese_train = split_data(Chinese_reviews, 0.9)\n",
    "print('Total %d number of reviews' % Chinese_train.shape[0])\n",
    "Chinese_polarity_score = get_polarity_score(Chinese_train)"
   ]
  },
  {
   "cell_type": "code",
   "execution_count": 63,
   "metadata": {
    "id": "E3yPlD_7LTCI"
   },
   "outputs": [],
   "source": [
    "Chinese_top_positive_words=get_top_words(Chinese_polarity_score, 'positive')[:10]\n",
    "Chinese_top_positive_words"
   ]
  },
  {
   "cell_type": "code",
   "execution_count": 64,
   "metadata": {
    "id": "GbyD8QvCLTCJ"
   },
   "outputs": [],
   "source": [
    "Chinese_top_negative_words=get_top_words(Chinese_polarity_score,'negative')[:10]\n",
    "Chinese_top_negative_words"
   ]
  },
  {
   "cell_type": "code",
   "execution_count": 65,
   "metadata": {
    "id": "YOanrI_hLTCJ"
   },
   "outputs": [],
   "source": [
    "Chinese_top_words = Chinese_polarity_score.loc[Chinese_top_positive_words.index.tolist()+Chinese_top_negative_words.index.tolist(),'polarity']\n",
    "plot_top_words(Chinese_top_words,'Chinese')"
   ]
  },
  {
   "cell_type": "markdown",
   "metadata": {
    "id": "j-nvflZIMPZQ"
   },
   "source": [
    "## Vietnamese"
   ]
  },
  {
   "cell_type": "code",
   "execution_count": 66,
   "metadata": {
    "id": "J4RFuklkMSnU"
   },
   "outputs": [],
   "source": [
    "# Getting dataset, calculating polarity scores, getting and plotting top 10 negative and positive words for Vietnamese restaurants.\n",
    "\n",
    "Vietnamese_reviews = get_dataset('Vietnamese')\n",
    "Vietnamese_train = split_data(Vietnamese_reviews, 0.9)\n",
    "print('Total %d number of reviews' % Vietnamese_train.shape[0])\n",
    "Vietnamese_polarity_score = get_polarity_score(Vietnamese_train)"
   ]
  },
  {
   "cell_type": "code",
   "execution_count": 67,
   "metadata": {
    "id": "WNBLMUGtMVZo"
   },
   "outputs": [],
   "source": [
    "Vietnamese_top_positive_words=get_top_words(Vietnamese_polarity_score, 'positive')[:10]\n",
    "Vietnamese_top_positive_words"
   ]
  },
  {
   "cell_type": "code",
   "execution_count": 68,
   "metadata": {
    "id": "xh03R7dGMVs7"
   },
   "outputs": [],
   "source": [
    "Vietnamese_top_negative_words=get_top_words(Vietnamese_polarity_score,'negative')[:10]\n",
    "Vietnamese_top_negative_words"
   ]
  },
  {
   "cell_type": "code",
   "execution_count": 69,
   "metadata": {
    "id": "IEEdQZ-nMwI3"
   },
   "outputs": [],
   "source": [
    "Vietnamese_top_words = Vietnamese_polarity_score.loc[Vietnamese_top_positive_words.index.tolist()+Vietnamese_top_negative_words.index.tolist(),'polarity']\n",
    "plot_top_words(Vietnamese_top_words,'Vietnamese')"
   ]
  },
  {
   "cell_type": "markdown",
   "metadata": {
    "id": "wUP6uibSNF1b"
   },
   "source": [
    "## French"
   ]
  },
  {
   "cell_type": "code",
   "execution_count": 70,
   "metadata": {
    "id": "PO9hLmRNNGVk"
   },
   "outputs": [],
   "source": [
    "# Getting dataset, calculating polarity scores, getting and plotting top 10 negative and positive words for French restaurants.\n",
    "\n",
    "French_reviews = get_dataset('French')\n",
    "French_train = split_data(French_reviews, 0.9)\n",
    "print('Total %d number of reviews' % French_train.shape[0])\n",
    "French_polarity_score = get_polarity_score(French_train)"
   ]
  },
  {
   "cell_type": "code",
   "execution_count": 71,
   "metadata": {
    "id": "nhZ-w6NGNPht"
   },
   "outputs": [],
   "source": [
    "French_top_positive_words=get_top_words(French_polarity_score, 'positive')[:10]\n",
    "French_top_positive_words"
   ]
  },
  {
   "cell_type": "code",
   "execution_count": 72,
   "metadata": {
    "id": "BXjpvYRCNTDU"
   },
   "outputs": [],
   "source": [
    "French_top_negative_words=get_top_words(French_polarity_score,'negative')[:10]\n",
    "French_top_negative_words"
   ]
  },
  {
   "cell_type": "code",
   "execution_count": 73,
   "metadata": {
    "id": "3A8KvVHANZHW"
   },
   "outputs": [],
   "source": [
    "French_top_words = French_polarity_score.loc[French_top_positive_words.index.tolist()+French_top_negative_words.index.tolist(),'polarity']\n",
    "plot_top_words(French_top_words,'French')"
   ]
  },
  {
   "cell_type": "markdown",
   "metadata": {
    "id": "AJF-Fi9tNin5"
   },
   "source": [
    "## Italian"
   ]
  },
  {
   "cell_type": "code",
   "execution_count": 74,
   "metadata": {
    "id": "wOcV2L_qNglI"
   },
   "outputs": [],
   "source": [
    "# Getting dataset, calculating polarity scores, getting and plotting top 10 negative and positive words for Italian restaurants.\n",
    "\n",
    "Italian_reviews = get_dataset('Italian')\n",
    "Italian_train = split_data(Italian_reviews, 0.9)\n",
    "print('Total %d number of reviews' % Italian_train.shape[0])\n",
    "Italian_polarity_score = get_polarity_score(Italian_train)"
   ]
  },
  {
   "cell_type": "code",
   "execution_count": 75,
   "metadata": {
    "id": "MJUtj3n6NsW1"
   },
   "outputs": [],
   "source": [
    "Italian_top_positive_words=get_top_words(Italian_polarity_score, 'positive')[:10]\n",
    "Italian_top_positive_words"
   ]
  },
  {
   "cell_type": "code",
   "execution_count": 76,
   "metadata": {
    "id": "MINDw4bDNtFi"
   },
   "outputs": [],
   "source": [
    "Italian_top_negative_words=get_top_words(Italian_polarity_score,'negative')[:10]\n",
    "Italian_top_negative_words"
   ]
  },
  {
   "cell_type": "code",
   "execution_count": 77,
   "metadata": {
    "id": "A1tjHFz6NutH"
   },
   "outputs": [],
   "source": [
    "Italian_top_words = Italian_polarity_score.loc[Italian_top_positive_words.index.tolist()+Italian_top_negative_words.index.tolist(),'polarity']\n",
    "plot_top_words(Italian_top_words,'Italian')"
   ]
  },
  {
   "cell_type": "code",
   "execution_count": 99,
   "metadata": {
    "id": "h8UNukMfN-5E"
   },
   "outputs": [],
   "source": [
    "# Combining all top negative and positive words to compare among different cuisine types.\n",
    "\n",
    "all_category = {'cuisine':['Korean','Japanese','Chinese','Thai','Vietnamese','French','Italian']}\n",
    "cuisine_positive_words = pd.DataFrame(all_category)\n",
    "for i,word in enumerate(Korean_top_positive_words):\n",
    "    cuisine_positive_words.loc[0,i] = word"
   ]
  },
  {
   "cell_type": "code",
   "execution_count": 100,
   "metadata": {
    "id": "l9OFbvftOFyO"
   },
   "outputs": [],
   "source": [
    "for i,word in enumerate(Korean_top_positive_words):\n",
    "    cuisine_positive_words.iloc[0,i] = word\n",
    "for i,word in enumerate(Japanese_top_positive_words.index.tolist()):\n",
    "    cuisine_positive_words.iloc[1,i] = word\n",
    "for i,word in enumerate(Chinese_top_positive_words.index.tolist()):\n",
    "    cuisine_positive_words.iloc[2,i] = word\n",
    "for i,word in enumerate(Thai_top_positive_words.index.tolist()):\n",
    "    cuisine_positive_words.iloc[3,i] = word\n",
    "for i,word in enumerate(Vietnamese_top_positive_words.index.tolist()):\n",
    "    cuisine_positive_words.iloc[4,i] = word\n",
    "for i,word in enumerate(French_top_positive_words.index.tolist()):\n",
    "    cuisine_positive_words.iloc[5,i] = word\n",
    "for i,word in enumerate(Italian_top_positive_words.index.tolist()):\n",
    "    cuisine_positive_words.iloc[6,i] = word\n",
    "\n",
    "cuisine_positive_words.drop(9,axis=1,inplace=True)\n",
    "cuisine_positive_words.columns=['0','1','2','3','4','5','6','7','8','9']\n",
    "cuisine_positive_words['cuisine']=['Korean','Japanese','Chinese','Thai','Vietnamese','French','Italian']\n",
    "cuisine_positive_words.set_index('cuisine', inplace=True)"
   ]
  },
  {
   "cell_type": "code",
   "execution_count": 102,
   "metadata": {
    "id": "03kw6BWnOGB1"
   },
   "outputs": [],
   "source": [
    "all_category = {'cuisine':['Korean','Japanese','Chinese','Thai','Vietnamese','French','Italian']}\n",
    "cuisine_negative_words = pd.DataFrame(all_category)\n",
    "for i,word in enumerate(Korean_top_negative_words):\n",
    "    cuisine_negative_words.loc[0,i] = word"
   ]
  },
  {
   "cell_type": "code",
   "execution_count": 103,
   "metadata": {
    "id": "4ldhpeKFOJSL"
   },
   "outputs": [],
   "source": [
    "for i,word in enumerate(Korean_top_negative_words):\n",
    "    cuisine_negative_words.iloc[0,i] = word\n",
    "for i,word in enumerate(Japanese_top_negative_words.index.tolist()):\n",
    "    cuisine_negative_words.iloc[1,i] = word\n",
    "for i,word in enumerate(Chinese_top_negative_words.index.tolist()):\n",
    "    cuisine_negative_words.iloc[2,i] = word\n",
    "for i,word in enumerate(Thai_top_negative_words.index.tolist()):\n",
    "    cuisine_negative_words.iloc[3,i] = word\n",
    "for i,word in enumerate(Vietnamese_top_negative_words.index.tolist()):\n",
    "    cuisine_negative_words.iloc[4,i] = word\n",
    "for i,word in enumerate(French_top_negative_words.index.tolist()):\n",
    "    cuisine_negative_words.iloc[5,i] = word\n",
    "for i,word in enumerate(Italian_top_negative_words.index.tolist()):\n",
    "    cuisine_negative_words.iloc[6,i] = word\n",
    "\n",
    "cuisine_negative_words.drop(9,axis=1,inplace=True)\n",
    "cuisine_negative_words.columns=['0','1','2','3','4','5','6','7','8','9']\n",
    "cuisine_negative_words['cuisine']=['Korean','Japanese','Chinese','Thai','Vietnamese','French','Italian']\n",
    "cuisine_negative_words.set_index('cuisine', inplace=True)"
   ]
  },
  {
   "cell_type": "code",
   "execution_count": 101,
   "metadata": {
    "id": "AAAm-f6jOLGE"
   },
   "outputs": [],
   "source": [
    "cuisine_positive_words"
   ]
  },
  {
   "cell_type": "markdown",
   "metadata": {
    "nteract": {
     "transient": {
      "deleting": false
     }
    }
   },
   "source": [
    "When we checked all cuisines, we see that delicious word is the most common top positive word among all cuisines. From there we can say that taste is the top concern in the restaurant businesses. In Japanese, Chinese and Vietnamese cuisines second best concern is freshness of foods that was expected but in the Korean and Thai cuisines being friendly coming earlier than freshness that was unexpected for the Far East cuisine. In French cuisine looks like exaggerated words are used more compare to other cuisines.\n",
    "The reason of high score in French cuisine type is related to the romantic and beautiful appearence or environment.While French restaurants received positive reviews for their sweet food, sweet food is the reason for Korean restaurants to have negative reviews."
   ]
  },
  {
   "cell_type": "code",
   "execution_count": 104,
   "metadata": {
    "id": "CpIQYGr1OLYU"
   },
   "outputs": [],
   "source": [
    "cuisine_negative_words"
   ]
  },
  {
   "cell_type": "markdown",
   "metadata": {
    "nteract": {
     "transient": {
      "deleting": false
     }
    }
   },
   "source": [
    "In Korean and Japanese restaurants customers first concern is pricing. In most of the cuisines cold food is not welcomed well. Also we can see that, sour and sweet foods are not welcomed well too. Being slow on serve is another important concern for all cuisines. For Italian and French cuisines we can see that cold and warm foods are the most important concerns for negative reviews, which are not expected in general restaurant reviews. In Vietnamese cuisine, we find that hard is the main concern which can be evaluated from different perspectives for example hard to find, hard to order and hard to communicate. "
   ]
  },
  {
   "cell_type": "markdown",
   "metadata": {
    "nteract": {
     "transient": {
      "deleting": false
     }
    }
   },
   "source": [
    "# Recommendation\n",
    "- For Korean and Japanese cuisines pricing can be considered.\n",
    "- For Chinese restaurants sourness of foods should be adjusted and coldness of foods should be balanced.\n",
    "- For Thai restaurants sweetness of foods should be arranged and they should be careful for not to give wrong orders.\n",
    "- For Vietnamese cuisine they should find what is hard in their restaurant and try to fix it.\n",
    "- For French and Italian restaurants they should be more careful about serving cold and warm foods."
   ]
  }
 ],
 "metadata": {
  "description": null,
  "kernelspec": {
   "display_name": "Python 3 (ipykernel)",
   "language": "python",
   "name": "python3"
  },
  "language_info": {
   "codemirror_mode": {
    "name": "ipython",
    "version": 3
   },
   "file_extension": ".py",
   "mimetype": "text/x-python",
   "name": "python",
   "nbconvert_exporter": "python",
   "pygments_lexer": "ipython3",
   "version": "3.10.9"
  },
  "save_output": true
 },
 "nbformat": 4,
 "nbformat_minor": 2
}
