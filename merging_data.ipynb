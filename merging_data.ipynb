{
 "cells": [
  {
   "cell_type": "code",
   "execution_count": null,
   "metadata": {
    "jupyter": {
     "outputs_hidden": false,
     "source_hidden": false
    },
    "nteract": {
     "transient": {
      "deleting": false
     }
    }
   },
   "outputs": [],
   "source": [
    "reviews = spark.sql(\"SELECT * FROM `default`.`reviews`\")\n",
    "restaurants = spark.sql(\"SELECT * FROM `default`.`us_restaurants`\")"
   ]
  },
  {
   "cell_type": "code",
   "execution_count": null,
   "metadata": {
    "jupyter": {
     "outputs_hidden": false,
     "source_hidden": false
    },
    "nteract": {
     "transient": {
      "deleting": false
     }
    }
   },
   "outputs": [],
   "source": [
    "us_restaurants = us_restaurants.withColumnRenamed(\"stars\", \"avg_star\")\n",
    "review = review.withColumnRenamed(\"stars\", \"review_star\")"
   ]
  },
  {
   "cell_type": "code",
   "execution_count": null,
   "metadata": {
    "jupyter": {
     "outputs_hidden": false,
     "source_hidden": false
    },
    "nteract": {
     "transient": {
      "deleting": false
     }
    }
   },
   "outputs": [],
   "source": [
    "# Merge the DataFrames on 'business_id'\n",
    "restaurants_reviews = us_restaurants.join(review, on=\"business_id\", how=\"inner\")"
   ]
  },
  {
   "cell_type": "code",
   "execution_count": null,
   "metadata": {
    "jupyter": {
     "outputs_hidden": false,
     "source_hidden": false
    },
    "nteract": {
     "transient": {
      "deleting": false
     }
    }
   },
   "outputs": [],
   "source": [
    "display(restaurants_reviews.limit(10))"
   ]
  },
  {
   "cell_type": "code",
   "execution_count": null,
   "metadata": {
    "jupyter": {
     "outputs_hidden": false,
     "source_hidden": true
    },
    "nteract": {
     "transient": {
      "deleting": false
     }
    }
   },
   "outputs": [],
   "source": [
    "from pyspark.sql.functions import col, length, split, regexp_replace\n",
    "\n",
    "# Remove '\\n' characters and special characters from the 'text' column\n",
    "restaurants_reviews = restaurants_reviews.withColumn(\"text_cleaned\",\n",
    "                                                     regexp_replace(col(\"text\"), \"[\\\\n!\\\"#$%&()*+,-./:;<=>?@[\\\\]^_`{|}~]\", \" \"))\n",
    "\n",
    "\n",
    "# Show the resulting DataFrame\n",
    "display(restaurants_reviews.limit(10))"
   ]
  },
  {
   "cell_type": "code",
   "execution_count": null,
   "metadata": {
    "jupyter": {
     "outputs_hidden": false,
     "source_hidden": false
    },
    "nteract": {
     "transient": {
      "deleting": false
     }
    }
   },
   "outputs": [],
   "source": [
    "restaurants_reviews = restaurants_reviews.withColumn(\"labels\",\n",
    "    when(restaurants_reviews[\"review_star\"] >= 4, \"positive\")\n",
    "    .when(restaurants_reviews[\"review_star\"] == 3, \"neutral\")\n",
    "    .when(restaurants_reviews[\"review_star\"] < 3, \"negative\")\n",
    ")\n",
    "\n",
    "restaurants_reviews = restaurants_reviews.where(restaurants_reviews[\"labels\"] != \"neutral\")\n",
    "\n",
    "display(restaurants_reviews.limit(10))\n",
    "\n"
   ]
  },
  {
   "cell_type": "code",
   "execution_count": null,
   "metadata": {
    "jupyter": {
     "outputs_hidden": false,
     "source_hidden": false
    },
    "nteract": {
     "transient": {
      "deleting": false
     }
    }
   },
   "outputs": [],
   "source": [
    "restaurants_reviews.write.option(\"database\", \"YelpDB\").mode(\"overwrite\").saveAsTable(\"restaurants_reviews\")"
   ]
  }
 ],
 "metadata": {
  "description": null,
  "kernelspec": {
   "display_name": "Python 3 (ipykernel)",
   "language": "python",
   "name": "python3"
  },
  "language_info": {
   "codemirror_mode": {
    "name": "ipython",
    "version": 3
   },
   "file_extension": ".py",
   "mimetype": "text/x-python",
   "name": "python",
   "nbconvert_exporter": "python",
   "pygments_lexer": "ipython3",
   "version": "3.10.9"
  },
  "save_output": true
 },
 "nbformat": 4,
 "nbformat_minor": 2
}
